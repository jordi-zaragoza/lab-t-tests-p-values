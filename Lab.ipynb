{
 "cells": [
  {
   "cell_type": "code",
   "execution_count": 2,
   "id": "sporting-manor",
   "metadata": {},
   "outputs": [],
   "source": [
    "import pandas as pd\n",
    "import numpy as np\n",
    "import scipy.stats as st"
   ]
  },
  {
   "cell_type": "markdown",
   "id": "departmental-settlement",
   "metadata": {},
   "source": [
    "![logo_ironhack_blue 7](https://user-images.githubusercontent.com/23629340/40541063-a07a0a8a-601a-11e8-91b5-2f13e4e6b441.png)\n",
    "\n",
    "# Lab | Inferential statistics - T-test & P-value\n",
    "\n",
    "### Instructions\n",
    "\n",
    "1. *One tailed t-test* - In a packing plant, a machine packs cartons with jars. It is supposed that a new machine will pack faster on the average than the machine currently used. To test that hypothesis, the times it takes each machine to pack ten cartons are recorded. The results, in seconds, are shown in the tables in the file `files_for_lab/machine.txt`.\n",
    "   Assume that there is sufficient evidence to conduct the t test, does the data provide sufficient evidence to show if one machine is better than the other?\n",
    "\n",
    "\n",
    "\n"
   ]
  },
  {
   "cell_type": "code",
   "execution_count": 81,
   "id": "removable-formation",
   "metadata": {},
   "outputs": [
    {
     "name": "stdout",
     "output_type": "stream",
     "text": [
      "(10, 2)\n"
     ]
    },
    {
     "data": {
      "text/plain": [
       "Index(['New machine', '    Old machine'], dtype='object')"
      ]
     },
     "execution_count": 81,
     "metadata": {},
     "output_type": "execute_result"
    }
   ],
   "source": [
    "data = pd.read_csv('files_for_lab/machine.txt', encoding='UTF-16' , sep = '\\t')\n",
    "print(data.shape)\n",
    "data.columns"
   ]
  },
  {
   "cell_type": "markdown",
   "id": "dying-president",
   "metadata": {},
   "source": [
    "We have only 10 values of df size therefore we use ddof = 1"
   ]
  },
  {
   "cell_type": "code",
   "execution_count": 82,
   "id": "colored-bibliography",
   "metadata": {},
   "outputs": [
    {
     "name": "stdout",
     "output_type": "stream",
     "text": [
      "The mean of sample a is 42.14\n",
      "The mean of sample b is 43.23\n",
      "The standard deviation of sample a is 0.68\n",
      "The standard deviation of sample b is 0.75\n",
      "The ratio of the sample variances is 0.91 which is bigger than 0.5 and smaller than 2\n",
      "The t statistic is: -4.74\n"
     ]
    }
   ],
   "source": [
    "sample = data.copy()\n",
    "sample_a, sample_b = sample['New machine'], sample['    Old machine']\n",
    "sample_a_mean, sample_b_mean = sample_a.mean(), sample_b.mean()\n",
    "sample_a_std, sample_b_std = sample_a.std(ddof=1), sample_b.std(ddof=1)\n",
    "sp = ( len(sample_a) - 1 ) * ( sample_a_std**2 ) +  ( len(sample_b) - 1 ) * ( sample_b_std**2 )\n",
    "sp /= ( len(sample_a) + len(sample_b) - 2)\n",
    "r = np.sqrt( (1/len(sample_a)) + (1/len(sample_b)) )\n",
    "t = ( sample_a_mean - sample_b_mean )/ (sp * r)\n",
    "\n",
    "print(\"The mean of sample a is {:.2f}\".format(sample_a_mean))\n",
    "print(\"The mean of sample b is {:.2f}\".format(sample_b_mean))\n",
    "print(\"The standard deviation of sample a is {:.2f}\".format(sample_a_std))\n",
    "print(\"The standard deviation of sample b is {:.2f}\".format(sample_b_std))\n",
    "print(\"The ratio of the sample variances is {:.2f} which is bigger than 0.5 and smaller than 2\".format(sample_a_std/sample_b_std))\n",
    "print(\"The t statistic is: {:.2f}\".format(t))"
   ]
  },
  {
   "cell_type": "markdown",
   "id": "contained-catering",
   "metadata": {},
   "source": [
    "Let's do the test first with critical values: "
   ]
  },
  {
   "cell_type": "code",
   "execution_count": 83,
   "id": "japanese-vitamin",
   "metadata": {},
   "outputs": [
    {
     "data": {
      "text/plain": [
       "2.10092204024096"
      ]
     },
     "execution_count": 83,
     "metadata": {},
     "output_type": "execute_result"
    }
   ],
   "source": [
    "st.t.ppf(1-(0.05/2),df = len(sample_a)+len(sample_b)-2)"
   ]
  },
  {
   "cell_type": "markdown",
   "id": "controlling-terry",
   "metadata": {},
   "source": [
    "The negative of the critical value is -2.1 and our t statistic is -4.74 Therefore, we do not Accept the H0\n",
    "\n",
    "Let's do the same with p_values:"
   ]
  },
  {
   "cell_type": "code",
   "execution_count": 84,
   "id": "baking-medicare",
   "metadata": {},
   "outputs": [
    {
     "data": {
      "text/plain": [
       "8.260617649942772e-05"
      ]
     },
     "execution_count": 84,
     "metadata": {},
     "output_type": "execute_result"
    }
   ],
   "source": [
    "st.t.cdf(t,df = len(sample_a)+len(sample_b)-2)"
   ]
  },
  {
   "cell_type": "markdown",
   "id": "senior-turner",
   "metadata": {},
   "source": [
    "According to this, the probability of getting any value smaller or equal to our t-statistic is:\n",
    "\n",
    "$$P(x<t=-4.74)=0.00... < 0.05/2=0.025$$\n",
    "\n",
    "<b>According to this, we will reject H0."
   ]
  },
  {
   "cell_type": "markdown",
   "id": "through-investor",
   "metadata": {},
   "source": [
    "2. *Matched Pairs Test* - In this challenge we will compare dependent samples of data describing our Pokemon (file `files_for_lab/pokemon.csv`). Our goal is to see whether there is a significant difference between each Pokemon's defense and attack scores. Our hypothesis is that the defense and attack scores are equal. Compare the two columns to see if there is a statistically significant difference between them and comment your result.\n"
   ]
  },
  {
   "cell_type": "code",
   "execution_count": 77,
   "id": "prostate-verse",
   "metadata": {},
   "outputs": [
    {
     "name": "stdout",
     "output_type": "stream",
     "text": [
      "(800, 13)\n"
     ]
    },
    {
     "data": {
      "text/html": [
       "<div>\n",
       "<style scoped>\n",
       "    .dataframe tbody tr th:only-of-type {\n",
       "        vertical-align: middle;\n",
       "    }\n",
       "\n",
       "    .dataframe tbody tr th {\n",
       "        vertical-align: top;\n",
       "    }\n",
       "\n",
       "    .dataframe thead th {\n",
       "        text-align: right;\n",
       "    }\n",
       "</style>\n",
       "<table border=\"1\" class=\"dataframe\">\n",
       "  <thead>\n",
       "    <tr style=\"text-align: right;\">\n",
       "      <th></th>\n",
       "      <th>#</th>\n",
       "      <th>Name</th>\n",
       "      <th>Type 1</th>\n",
       "      <th>Type 2</th>\n",
       "      <th>Total</th>\n",
       "      <th>HP</th>\n",
       "      <th>Attack</th>\n",
       "      <th>Defense</th>\n",
       "      <th>Sp. Atk</th>\n",
       "      <th>Sp. Def</th>\n",
       "      <th>Speed</th>\n",
       "      <th>Generation</th>\n",
       "      <th>Legendary</th>\n",
       "    </tr>\n",
       "  </thead>\n",
       "  <tbody>\n",
       "    <tr>\n",
       "      <th>0</th>\n",
       "      <td>1</td>\n",
       "      <td>Bulbasaur</td>\n",
       "      <td>Grass</td>\n",
       "      <td>Poison</td>\n",
       "      <td>318</td>\n",
       "      <td>45</td>\n",
       "      <td>49</td>\n",
       "      <td>49</td>\n",
       "      <td>65</td>\n",
       "      <td>65</td>\n",
       "      <td>45</td>\n",
       "      <td>1</td>\n",
       "      <td>False</td>\n",
       "    </tr>\n",
       "    <tr>\n",
       "      <th>1</th>\n",
       "      <td>2</td>\n",
       "      <td>Ivysaur</td>\n",
       "      <td>Grass</td>\n",
       "      <td>Poison</td>\n",
       "      <td>405</td>\n",
       "      <td>60</td>\n",
       "      <td>62</td>\n",
       "      <td>63</td>\n",
       "      <td>80</td>\n",
       "      <td>80</td>\n",
       "      <td>60</td>\n",
       "      <td>1</td>\n",
       "      <td>False</td>\n",
       "    </tr>\n",
       "    <tr>\n",
       "      <th>2</th>\n",
       "      <td>3</td>\n",
       "      <td>Venusaur</td>\n",
       "      <td>Grass</td>\n",
       "      <td>Poison</td>\n",
       "      <td>525</td>\n",
       "      <td>80</td>\n",
       "      <td>82</td>\n",
       "      <td>83</td>\n",
       "      <td>100</td>\n",
       "      <td>100</td>\n",
       "      <td>80</td>\n",
       "      <td>1</td>\n",
       "      <td>False</td>\n",
       "    </tr>\n",
       "    <tr>\n",
       "      <th>3</th>\n",
       "      <td>3</td>\n",
       "      <td>VenusaurMega Venusaur</td>\n",
       "      <td>Grass</td>\n",
       "      <td>Poison</td>\n",
       "      <td>625</td>\n",
       "      <td>80</td>\n",
       "      <td>100</td>\n",
       "      <td>123</td>\n",
       "      <td>122</td>\n",
       "      <td>120</td>\n",
       "      <td>80</td>\n",
       "      <td>1</td>\n",
       "      <td>False</td>\n",
       "    </tr>\n",
       "    <tr>\n",
       "      <th>4</th>\n",
       "      <td>4</td>\n",
       "      <td>Charmander</td>\n",
       "      <td>Fire</td>\n",
       "      <td>NaN</td>\n",
       "      <td>309</td>\n",
       "      <td>39</td>\n",
       "      <td>52</td>\n",
       "      <td>43</td>\n",
       "      <td>60</td>\n",
       "      <td>50</td>\n",
       "      <td>65</td>\n",
       "      <td>1</td>\n",
       "      <td>False</td>\n",
       "    </tr>\n",
       "  </tbody>\n",
       "</table>\n",
       "</div>"
      ],
      "text/plain": [
       "   #                   Name Type 1  Type 2  Total  HP  Attack  Defense  \\\n",
       "0  1              Bulbasaur  Grass  Poison    318  45      49       49   \n",
       "1  2                Ivysaur  Grass  Poison    405  60      62       63   \n",
       "2  3               Venusaur  Grass  Poison    525  80      82       83   \n",
       "3  3  VenusaurMega Venusaur  Grass  Poison    625  80     100      123   \n",
       "4  4             Charmander   Fire     NaN    309  39      52       43   \n",
       "\n",
       "   Sp. Atk  Sp. Def  Speed  Generation  Legendary  \n",
       "0       65       65     45           1      False  \n",
       "1       80       80     60           1      False  \n",
       "2      100      100     80           1      False  \n",
       "3      122      120     80           1      False  \n",
       "4       60       50     65           1      False  "
      ]
     },
     "execution_count": 77,
     "metadata": {},
     "output_type": "execute_result"
    }
   ],
   "source": [
    "files_pok = pd.read_csv('files_for_lab/pokemon.csv')\n",
    "print(files_pok.shape)\n",
    "files_pok.head()"
   ]
  },
  {
   "cell_type": "markdown",
   "id": "premium-owner",
   "metadata": {},
   "source": [
    "Same as before"
   ]
  },
  {
   "cell_type": "code",
   "execution_count": 78,
   "id": "secure-allen",
   "metadata": {},
   "outputs": [
    {
     "name": "stdout",
     "output_type": "stream",
     "text": [
      "The mean of sample a is 79.00\n",
      "The mean of sample b is 73.84\n",
      "The standard deviation of sample a is 32.46\n",
      "The standard deviation of sample b is 31.18\n",
      "The ratio of the sample variances is 1.04 which is bigger than 0.5 and smaller than 2\n",
      "The t statistic is: 0.10\n"
     ]
    }
   ],
   "source": [
    "sample = files_pok.copy()\n",
    "sample_a, sample_b = sample['Attack'], sample['Defense']\n",
    "sample_a_mean, sample_b_mean = sample_a.mean(), sample_b.mean()\n",
    "sample_a_std, sample_b_std = sample_a.std(), sample_b.std()\n",
    "sp = ( len(sample_a) - 1 ) * ( sample_a_std**2 ) +  ( len(sample_b) - 1 ) * ( sample_b_std**2 )\n",
    "sp /= ( len(sample_a) + len(sample_b) - 2)\n",
    "r = np.sqrt( (1/len(sample_a)) + (1/len(sample_b)) )\n",
    "t = ( sample_a_mean - sample_b_mean )/ (sp * r)\n",
    "\n",
    "print(\"The mean of sample a is {:.2f}\".format(sample_a_mean))\n",
    "print(\"The mean of sample b is {:.2f}\".format(sample_b_mean))\n",
    "print(\"The standard deviation of sample a is {:.2f}\".format(sample_a_std))\n",
    "print(\"The standard deviation of sample b is {:.2f}\".format(sample_b_std))\n",
    "print(\"The ratio of the sample variances is {:.2f} which is bigger than 0.5 and smaller than 2\".format(sample_a_std/sample_b_std))\n",
    "print(\"The t statistic is: {:.2f}\".format(t))"
   ]
  },
  {
   "cell_type": "markdown",
   "id": "egyptian-bumper",
   "metadata": {},
   "source": [
    "Let's do the test first with critical values: "
   ]
  },
  {
   "cell_type": "code",
   "execution_count": 79,
   "id": "discrete-california",
   "metadata": {},
   "outputs": [
    {
     "data": {
      "text/plain": [
       "1.9614496156420809"
      ]
     },
     "execution_count": 79,
     "metadata": {},
     "output_type": "execute_result"
    }
   ],
   "source": [
    "st.t.ppf(1-(0.05/2),df = len(sample_a)+len(sample_b)-2)"
   ]
  },
  {
   "cell_type": "markdown",
   "id": "commercial-syndicate",
   "metadata": {},
   "source": [
    "The critical value is 1.96 and our t statistic is 0.1 Therefore, we Accept the H0\n",
    "\n",
    "Let's do the same with p_values:"
   ]
  },
  {
   "cell_type": "code",
   "execution_count": 80,
   "id": "located-vehicle",
   "metadata": {},
   "outputs": [
    {
     "data": {
      "text/plain": [
       "0.5405582827427677"
      ]
     },
     "execution_count": 80,
     "metadata": {},
     "output_type": "execute_result"
    }
   ],
   "source": [
    "st.t.cdf(t,df = len(sample_a)+len(sample_b)-2)"
   ]
  },
  {
   "cell_type": "markdown",
   "id": "pressing-operations",
   "metadata": {},
   "source": [
    "According to this, the probability of getting any value smaller or equal to our t-statistic is:\n",
    "\n",
    "$$P(x<t=0.10)=0.54 > 0.05/2=0.025$$\n",
    "\n",
    "<b>According to this, we will accept H0."
   ]
  },
  {
   "cell_type": "markdown",
   "id": "tracked-binary",
   "metadata": {},
   "source": [
    "# OPTIONAL PART | Inferential statistics - ANOVA\n",
    "\n",
    "Note: The following lab is divided in 2 sections which represent activities 3 and 4.\n",
    "\n",
    "## Part 1\n",
    "\n",
    "In this activity, we will look at another example. Your task is to understand the problem and write down all the steps to set up ANOVA. After the next lesson, we will ask you to solve this problem using Python. Here are the steps that you would need to work on:\n",
    "    - Null hypothesis\n",
    "    - Alternate hypothesis\n",
    "    - Level of significance\n",
    "    - Test statistic\n",
    "    - P-value\n",
    "    - F table\n",
    "\n",
    "### Context\n",
    "\n",
    "Suppose you are working as an analyst in a microprocessor chip manufacturing plant. You have been given the task of analyzing a plasma etching process with respect to changing Power (in Watts) of the plasma beam. Data was collected and provided to you to conduct statistical analysis and check if changing the power of the plasma beam has any effect on the etching rate by the machine. You will conduct ANOVA and check if there is any difference in the mean etching rate for different levels of power. You can find the data `anova_lab_data.xlsx` file in the `files_for_lab` folder  \n",
    "\n",
    "- State the null hypothesis\n",
    "- State the alternate hypothesis\n",
    "- What is the significance level\n",
    "- What are the degrees of freedom of model, error terms, and total DoF\n",
    "\n",
    "Data was collected randomly and provided to you in the table as shown: [link to the image - Data](https://education-team-2020.s3-eu-west-1.amazonaws.com/data-analytics/7.05/7.05-lab_data.png)\n"
   ]
  },
  {
   "cell_type": "markdown",
   "id": "soviet-emphasis",
   "metadata": {},
   "source": [
    "#### Answers\n",
    "- Null Hypotesis -> The means are the same $$H0: \\mu1 = \\mu2 = \\mu3$$\n",
    "- Alternate hypotesis -> There are differences $$H0: \\mu1 \\neq \\mu2 \\neq \\mu3$$\n",
    "- Level of significance -> 5%\n",
    "- Test statistic -> The null hypothesis is tested using the omnibus test (F test) for all groups\n",
    "- Degrees of fredon: \n",
    "\n",
    "$d_{1}=K-1$ and $d_{2}=N-K$\n",
    "\n",
    "d1 = 2, d2 = 12 "
   ]
  },
  {
   "cell_type": "markdown",
   "id": "several-webster",
   "metadata": {},
   "source": [
    "## Part 2\n",
    "\n",
    "- In this section, use the Python to conduct ANOVA.\n",
    "- What conclusions can you draw from the experiment and why?"
   ]
  },
  {
   "cell_type": "code",
   "execution_count": 24,
   "id": "thorough-tumor",
   "metadata": {},
   "outputs": [],
   "source": [
    "with pd.ExcelFile('files_for_lab/anova_lab_data.xlsx', engine=\"openpyxl\") as excel:\n",
    "    dataframe = pd.read_excel(excel)"
   ]
  },
  {
   "cell_type": "code",
   "execution_count": 44,
   "id": "romance-jacob",
   "metadata": {},
   "outputs": [
    {
     "data": {
      "text/html": [
       "<div>\n",
       "<style scoped>\n",
       "    .dataframe tbody tr th:only-of-type {\n",
       "        vertical-align: middle;\n",
       "    }\n",
       "\n",
       "    .dataframe tbody tr th {\n",
       "        vertical-align: top;\n",
       "    }\n",
       "\n",
       "    .dataframe thead th {\n",
       "        text-align: right;\n",
       "    }\n",
       "</style>\n",
       "<table border=\"1\" class=\"dataframe\">\n",
       "  <thead>\n",
       "    <tr style=\"text-align: right;\">\n",
       "      <th></th>\n",
       "      <th>Power</th>\n",
       "      <th>Etching Rate</th>\n",
       "    </tr>\n",
       "  </thead>\n",
       "  <tbody>\n",
       "    <tr>\n",
       "      <th>0</th>\n",
       "      <td>160 W</td>\n",
       "      <td>5.43</td>\n",
       "    </tr>\n",
       "    <tr>\n",
       "      <th>1</th>\n",
       "      <td>180 W</td>\n",
       "      <td>6.24</td>\n",
       "    </tr>\n",
       "    <tr>\n",
       "      <th>2</th>\n",
       "      <td>200 W</td>\n",
       "      <td>8.79</td>\n",
       "    </tr>\n",
       "    <tr>\n",
       "      <th>3</th>\n",
       "      <td>160 W</td>\n",
       "      <td>5.71</td>\n",
       "    </tr>\n",
       "    <tr>\n",
       "      <th>4</th>\n",
       "      <td>180 W</td>\n",
       "      <td>6.71</td>\n",
       "    </tr>\n",
       "  </tbody>\n",
       "</table>\n",
       "</div>"
      ],
      "text/plain": [
       "  Power   Etching Rate\n",
       "0  160 W          5.43\n",
       "1  180 W          6.24\n",
       "2  200 W          8.79\n",
       "3  160 W          5.71\n",
       "4  180 W          6.71"
      ]
     },
     "execution_count": 44,
     "metadata": {},
     "output_type": "execute_result"
    }
   ],
   "source": [
    "dataframe.head()"
   ]
  },
  {
   "cell_type": "code",
   "execution_count": 30,
   "id": "planned-drove",
   "metadata": {},
   "outputs": [
    {
     "name": "stdout",
     "output_type": "stream",
     "text": [
      "The value of S2t is 9.09\n"
     ]
    }
   ],
   "source": [
    "# In our case, the groups are the powerb, and the \"y\" is the \"Rate\"\n",
    "S2t = 0\n",
    "for power in dataframe['Power '].unique():\n",
    "    ng = len(dataframe[dataframe['Power '] == power])  \n",
    "    S2t  += ng * ( ( dataframe[dataframe['Power '] == power]['Etching Rate'].mean() - dataframe['Etching Rate'].mean() ) ** 2) \n",
    "S2t /= ( dataframe['Power '].nunique() - 1 ) # Number of  K = groups/cities \n",
    "\n",
    "print(\"The value of S2t is {:.2f}\".format(S2t)) "
   ]
  },
  {
   "cell_type": "code",
   "execution_count": 33,
   "id": "superb-stage",
   "metadata": {},
   "outputs": [
    {
     "name": "stdout",
     "output_type": "stream",
     "text": [
      "\n",
      "The value of S2E is 0.25\n"
     ]
    }
   ],
   "source": [
    "S2E = 0\n",
    "for power in dataframe['Power '].unique():\n",
    "    for rate in dataframe[dataframe['Power '] == power]['Etching Rate']:\n",
    "        S2E += ( rate - dataframe[dataframe['Power '] == power]['Etching Rate'].mean() ) ** 2\n",
    "S2E /= ( len(dataframe) - dataframe['Power '].nunique() ) \n",
    "\n",
    "print()\n",
    "print(\"The value of S2E is {:.2f}\".format(S2E))"
   ]
  },
  {
   "cell_type": "code",
   "execution_count": 34,
   "id": "classical-vintage",
   "metadata": {},
   "outputs": [
    {
     "name": "stdout",
     "output_type": "stream",
     "text": [
      "\n",
      "The value of S2E is 0.45\n"
     ]
    }
   ],
   "source": [
    "S2E2 = 0\n",
    "for city in dataframe['Power '].unique():\n",
    "    ng = len(dataframe[dataframe['Power '] == power])\n",
    "    S2E2 += ( ng - 1 ) * np.var(dataframe[dataframe['Power '] == power]['Etching Rate'],ddof=1)\n",
    "S2E2 /= ( len(dataframe) - dataframe['Power '].nunique() ) \n",
    "\n",
    "print()\n",
    "print(\"The value of S2E is {:.2f}\".format(S2E2))"
   ]
  },
  {
   "cell_type": "code",
   "execution_count": 35,
   "id": "armed-letter",
   "metadata": {},
   "outputs": [
    {
     "name": "stdout",
     "output_type": "stream",
     "text": [
      "The value of F is 36.88\n"
     ]
    }
   ],
   "source": [
    "F = S2t / S2E\n",
    "print(\"The value of F is {:.2f}\".format(F))"
   ]
  },
  {
   "cell_type": "code",
   "execution_count": 36,
   "id": "sudden-power",
   "metadata": {},
   "outputs": [
    {
     "name": "stdout",
     "output_type": "stream",
     "text": [
      "Number of degrees of freedom d1:  2\n",
      "Number of degrees of freedom d2:  12\n"
     ]
    }
   ],
   "source": [
    "d1 = dataframe['Power '].nunique() - 1\n",
    "d2 = len(dataframe) - dataframe['Power '].nunique()\n",
    "\n",
    "print(\"Number of degrees of freedom d1: \",d1)\n",
    "print(\"Number of degrees of freedom d2: \",d2)"
   ]
  },
  {
   "cell_type": "code",
   "execution_count": 37,
   "id": "complex-authorization",
   "metadata": {},
   "outputs": [
    {
     "data": {
      "text/plain": [
       "0.9999924934157276"
      ]
     },
     "execution_count": 37,
     "metadata": {},
     "output_type": "execute_result"
    }
   ],
   "source": [
    "st.f.cdf(F,dfn=d1, dfd=d2)"
   ]
  },
  {
   "cell_type": "markdown",
   "id": "numeric-stations",
   "metadata": {},
   "source": [
    "Thus, the probability to get any value smaller or equal to F\n",
    "\n",
    "$$P(x \\le F=36.88)= 0.9999$$"
   ]
  },
  {
   "cell_type": "markdown",
   "id": "removable-arizona",
   "metadata": {},
   "source": [
    "That is higher than 0.95 => <b>We reject the null Hypotesis"
   ]
  },
  {
   "cell_type": "markdown",
   "id": "beginning-reliance",
   "metadata": {},
   "source": [
    "Another way to do it is:"
   ]
  },
  {
   "cell_type": "code",
   "execution_count": 42,
   "id": "romantic-benjamin",
   "metadata": {},
   "outputs": [
    {
     "name": "stdout",
     "output_type": "stream",
     "text": [
      "F_onewayResult(statistic=36.87895470100505, pvalue=7.506584272358903e-06)\n"
     ]
    }
   ],
   "source": [
    "print(st.f_oneway(dataframe[dataframe['Power '] == '160 W']['Etching Rate'],dataframe[dataframe['Power '] == '180 W']['Etching Rate'],\n",
    "                  dataframe[dataframe['Power '] == '200 W']['Etching Rate']))"
   ]
  },
  {
   "cell_type": "code",
   "execution_count": null,
   "id": "german-apparatus",
   "metadata": {},
   "outputs": [],
   "source": []
  }
 ],
 "metadata": {
  "kernelspec": {
   "display_name": "Python 3 (ipykernel)",
   "language": "python",
   "name": "python3"
  },
  "language_info": {
   "codemirror_mode": {
    "name": "ipython",
    "version": 3
   },
   "file_extension": ".py",
   "mimetype": "text/x-python",
   "name": "python",
   "nbconvert_exporter": "python",
   "pygments_lexer": "ipython3",
   "version": "3.9.5"
  }
 },
 "nbformat": 4,
 "nbformat_minor": 5
}
